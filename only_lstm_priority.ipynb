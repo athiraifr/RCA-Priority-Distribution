{
 "cells": [
  {
   "cell_type": "markdown",
   "metadata": {},
   "source": [
    "Data Preprocessing"
   ]
  },
  {
   "cell_type": "code",
   "execution_count": 1,
   "metadata": {},
   "outputs": [],
   "source": [
    "import pandas as pd\n",
    "from sklearn.model_selection import train_test_split\n",
    "from sklearn.preprocessing import LabelEncoder\n",
    "from sklearn.feature_extraction.text import TfidfVectorizer\n",
    "\n",
    "# Load the dataset\n",
    "df = pd.read_csv('jira_priority_cleaned.csv', encoding='ISO-8859-1')\n",
    "\n",
    "# Select relevant columns\n",
    "df = df[['Summary', 'Priority']]\n",
    "\n",
    "# Encode the 'Priority' column as the target variable\n",
    "label_encoder = LabelEncoder()\n",
    "df['Priority_encoded'] = label_encoder.fit_transform(df['Priority'])\n",
    "\n",
    "# Text vectorization using TF-IDF\n",
    "tfidf = TfidfVectorizer(max_features=500)  # Limit to top 500 features\n",
    "X = tfidf.fit_transform(df['Summary']).toarray()\n",
    "\n",
    "# Target variable\n",
    "y = df['Priority_encoded']\n",
    "\n",
    "# Split the dataset into training and testing sets\n",
    "X_train, X_test, y_train, y_test = train_test_split(X, y, test_size=0.2, random_state=42)\n",
    "\n"
   ]
  },
  {
   "cell_type": "markdown",
   "metadata": {},
   "source": [
    "RNN-LSTM"
   ]
  },
  {
   "cell_type": "code",
   "execution_count": 2,
   "metadata": {},
   "outputs": [
    {
     "name": "stderr",
     "output_type": "stream",
     "text": [
      "c:\\Users\\91882\\AppData\\Local\\Programs\\Python\\Python312\\Lib\\site-packages\\keras\\src\\layers\\core\\embedding.py:90: UserWarning: Argument `input_length` is deprecated. Just remove it.\n",
      "  warnings.warn(\n"
     ]
    },
    {
     "name": "stdout",
     "output_type": "stream",
     "text": [
      "Epoch 1/30\n",
      "\u001b[1m14/14\u001b[0m \u001b[32m━━━━━━━━━━━━━━━━━━━━\u001b[0m\u001b[37m\u001b[0m \u001b[1m11s\u001b[0m 147ms/step - accuracy: 0.4757 - loss: 1.2896 - val_accuracy: 0.6204 - val_loss: 1.1891\n",
      "Epoch 2/30\n",
      "\u001b[1m14/14\u001b[0m \u001b[32m━━━━━━━━━━━━━━━━━━━━\u001b[0m\u001b[37m\u001b[0m \u001b[1m1s\u001b[0m 67ms/step - accuracy: 0.6629 - loss: 1.0964 - val_accuracy: 0.6204 - val_loss: 1.1265\n",
      "Epoch 3/30\n",
      "\u001b[1m14/14\u001b[0m \u001b[32m━━━━━━━━━━━━━━━━━━━━\u001b[0m\u001b[37m\u001b[0m \u001b[1m1s\u001b[0m 70ms/step - accuracy: 0.6921 - loss: 1.0354 - val_accuracy: 0.6204 - val_loss: 1.1163\n",
      "Epoch 4/30\n",
      "\u001b[1m14/14\u001b[0m \u001b[32m━━━━━━━━━━━━━━━━━━━━\u001b[0m\u001b[37m\u001b[0m \u001b[1m1s\u001b[0m 65ms/step - accuracy: 0.6661 - loss: 1.0310 - val_accuracy: 0.6204 - val_loss: 1.1084\n",
      "Epoch 5/30\n",
      "\u001b[1m14/14\u001b[0m \u001b[32m━━━━━━━━━━━━━━━━━━━━\u001b[0m\u001b[37m\u001b[0m \u001b[1m1s\u001b[0m 66ms/step - accuracy: 0.6818 - loss: 1.0053 - val_accuracy: 0.6204 - val_loss: 1.1138\n",
      "Epoch 6/30\n",
      "\u001b[1m14/14\u001b[0m \u001b[32m━━━━━━━━━━━━━━━━━━━━\u001b[0m\u001b[37m\u001b[0m \u001b[1m1s\u001b[0m 64ms/step - accuracy: 0.6597 - loss: 1.0020 - val_accuracy: 0.6204 - val_loss: 1.1160\n",
      "Epoch 7/30\n",
      "\u001b[1m14/14\u001b[0m \u001b[32m━━━━━━━━━━━━━━━━━━━━\u001b[0m\u001b[37m\u001b[0m \u001b[1m1s\u001b[0m 67ms/step - accuracy: 0.6533 - loss: 1.0306 - val_accuracy: 0.6204 - val_loss: 1.1114\n",
      "Epoch 8/30\n",
      "\u001b[1m14/14\u001b[0m \u001b[32m━━━━━━━━━━━━━━━━━━━━\u001b[0m\u001b[37m\u001b[0m \u001b[1m1s\u001b[0m 64ms/step - accuracy: 0.6775 - loss: 0.9831 - val_accuracy: 0.6204 - val_loss: 1.1103\n",
      "Epoch 9/30\n",
      "\u001b[1m14/14\u001b[0m \u001b[32m━━━━━━━━━━━━━━━━━━━━\u001b[0m\u001b[37m\u001b[0m \u001b[1m1s\u001b[0m 64ms/step - accuracy: 0.6483 - loss: 1.0305 - val_accuracy: 0.6204 - val_loss: 1.1092\n",
      "Epoch 10/30\n",
      "\u001b[1m14/14\u001b[0m \u001b[32m━━━━━━━━━━━━━━━━━━━━\u001b[0m\u001b[37m\u001b[0m \u001b[1m1s\u001b[0m 66ms/step - accuracy: 0.6271 - loss: 1.0292 - val_accuracy: 0.6204 - val_loss: 1.1457\n",
      "Epoch 11/30\n",
      "\u001b[1m14/14\u001b[0m \u001b[32m━━━━━━━━━━━━━━━━━━━━\u001b[0m\u001b[37m\u001b[0m \u001b[1m1s\u001b[0m 66ms/step - accuracy: 0.6611 - loss: 0.9492 - val_accuracy: 0.6204 - val_loss: 1.1460\n",
      "Epoch 12/30\n",
      "\u001b[1m14/14\u001b[0m \u001b[32m━━━━━━━━━━━━━━━━━━━━\u001b[0m\u001b[37m\u001b[0m \u001b[1m1s\u001b[0m 65ms/step - accuracy: 0.6325 - loss: 0.9466 - val_accuracy: 0.6204 - val_loss: 1.1647\n",
      "Epoch 13/30\n",
      "\u001b[1m14/14\u001b[0m \u001b[32m━━━━━━━━━━━━━━━━━━━━\u001b[0m\u001b[37m\u001b[0m \u001b[1m1s\u001b[0m 67ms/step - accuracy: 0.6481 - loss: 0.8701 - val_accuracy: 0.6204 - val_loss: 1.5172\n",
      "Epoch 14/30\n",
      "\u001b[1m14/14\u001b[0m \u001b[32m━━━━━━━━━━━━━━━━━━━━\u001b[0m\u001b[37m\u001b[0m \u001b[1m1s\u001b[0m 63ms/step - accuracy: 0.6439 - loss: 110202.6797 - val_accuracy: 0.6204 - val_loss: 1.4077\n",
      "Epoch 15/30\n",
      "\u001b[1m14/14\u001b[0m \u001b[32m━━━━━━━━━━━━━━━━━━━━\u001b[0m\u001b[37m\u001b[0m \u001b[1m1s\u001b[0m 62ms/step - accuracy: 0.6699 - loss: 15.7424 - val_accuracy: 0.6204 - val_loss: 1.1224\n",
      "Epoch 16/30\n",
      "\u001b[1m14/14\u001b[0m \u001b[32m━━━━━━━━━━━━━━━━━━━━\u001b[0m\u001b[37m\u001b[0m \u001b[1m1s\u001b[0m 65ms/step - accuracy: 0.6383 - loss: 0.9470 - val_accuracy: 0.6204 - val_loss: 1.1829\n",
      "Epoch 17/30\n",
      "\u001b[1m14/14\u001b[0m \u001b[32m━━━━━━━━━━━━━━━━━━━━\u001b[0m\u001b[37m\u001b[0m \u001b[1m1s\u001b[0m 63ms/step - accuracy: 0.6635 - loss: 0.8837 - val_accuracy: 0.6296 - val_loss: 1.1802\n",
      "Epoch 18/30\n",
      "\u001b[1m14/14\u001b[0m \u001b[32m━━━━━━━━━━━━━━━━━━━━\u001b[0m\u001b[37m\u001b[0m \u001b[1m1s\u001b[0m 64ms/step - accuracy: 0.6497 - loss: 0.8830 - val_accuracy: 0.6296 - val_loss: 1.1869\n",
      "Epoch 19/30\n",
      "\u001b[1m14/14\u001b[0m \u001b[32m━━━━━━━━━━━━━━━━━━━━\u001b[0m\u001b[37m\u001b[0m \u001b[1m1s\u001b[0m 64ms/step - accuracy: 0.6635 - loss: 0.7998 - val_accuracy: 0.6296 - val_loss: 1.3717\n",
      "Epoch 20/30\n",
      "\u001b[1m14/14\u001b[0m \u001b[32m━━━━━━━━━━━━━━━━━━━━\u001b[0m\u001b[37m\u001b[0m \u001b[1m1s\u001b[0m 66ms/step - accuracy: 0.6724 - loss: 0.8115 - val_accuracy: 0.6296 - val_loss: 1.3632\n",
      "Epoch 21/30\n",
      "\u001b[1m14/14\u001b[0m \u001b[32m━━━━━━━━━━━━━━━━━━━━\u001b[0m\u001b[37m\u001b[0m \u001b[1m1s\u001b[0m 67ms/step - accuracy: 0.6799 - loss: 0.7780 - val_accuracy: 0.6389 - val_loss: 1.4350\n",
      "Epoch 22/30\n",
      "\u001b[1m14/14\u001b[0m \u001b[32m━━━━━━━━━━━━━━━━━━━━\u001b[0m\u001b[37m\u001b[0m \u001b[1m1s\u001b[0m 67ms/step - accuracy: 0.6871 - loss: 0.7469 - val_accuracy: 0.6296 - val_loss: 1.4608\n",
      "Epoch 23/30\n",
      "\u001b[1m14/14\u001b[0m \u001b[32m━━━━━━━━━━━━━━━━━━━━\u001b[0m\u001b[37m\u001b[0m \u001b[1m1s\u001b[0m 65ms/step - accuracy: 0.6839 - loss: 0.7381 - val_accuracy: 0.6389 - val_loss: 1.6531\n",
      "Epoch 24/30\n",
      "\u001b[1m14/14\u001b[0m \u001b[32m━━━━━━━━━━━━━━━━━━━━\u001b[0m\u001b[37m\u001b[0m \u001b[1m1s\u001b[0m 65ms/step - accuracy: 0.7154 - loss: 0.7055 - val_accuracy: 0.6296 - val_loss: 1.7915\n",
      "Epoch 25/30\n",
      "\u001b[1m14/14\u001b[0m \u001b[32m━━━━━━━━━━━━━━━━━━━━\u001b[0m\u001b[37m\u001b[0m \u001b[1m1s\u001b[0m 65ms/step - accuracy: 0.6893 - loss: 0.7279 - val_accuracy: 0.6296 - val_loss: 1.5431\n",
      "Epoch 26/30\n",
      "\u001b[1m14/14\u001b[0m \u001b[32m━━━━━━━━━━━━━━━━━━━━\u001b[0m\u001b[37m\u001b[0m \u001b[1m1s\u001b[0m 67ms/step - accuracy: 0.7207 - loss: 0.7186 - val_accuracy: 0.6111 - val_loss: 1.7625\n",
      "Epoch 27/30\n",
      "\u001b[1m14/14\u001b[0m \u001b[32m━━━━━━━━━━━━━━━━━━━━\u001b[0m\u001b[37m\u001b[0m \u001b[1m1s\u001b[0m 62ms/step - accuracy: 0.6604 - loss: 0.7784 - val_accuracy: 0.6296 - val_loss: 1.8863\n",
      "Epoch 28/30\n",
      "\u001b[1m14/14\u001b[0m \u001b[32m━━━━━━━━━━━━━━━━━━━━\u001b[0m\u001b[37m\u001b[0m \u001b[1m1s\u001b[0m 64ms/step - accuracy: 0.6616 - loss: 0.8019 - val_accuracy: 0.6296 - val_loss: 1.5947\n",
      "Epoch 29/30\n",
      "\u001b[1m14/14\u001b[0m \u001b[32m━━━━━━━━━━━━━━━━━━━━\u001b[0m\u001b[37m\u001b[0m \u001b[1m1s\u001b[0m 61ms/step - accuracy: 0.6660 - loss: 0.7485 - val_accuracy: 0.6204 - val_loss: 1.9197\n",
      "Epoch 30/30\n",
      "\u001b[1m14/14\u001b[0m \u001b[32m━━━━━━━━━━━━━━━━━━━━\u001b[0m\u001b[37m\u001b[0m \u001b[1m1s\u001b[0m 60ms/step - accuracy: 0.7397 - loss: 0.6121 - val_accuracy: 0.6111 - val_loss: 1.9221\n",
      "\u001b[1m4/4\u001b[0m \u001b[32m━━━━━━━━━━━━━━━━━━━━\u001b[0m\u001b[37m\u001b[0m \u001b[1m0s\u001b[0m 17ms/step - accuracy: 0.6163 - loss: 1.9223\n",
      "Improved RNN-LSTM Results: [1.9221152067184448, 0.6111111044883728]\n"
     ]
    }
   ],
   "source": [
    "import numpy as np\n",
    "import tensorflow as tf\n",
    "from tensorflow.keras.models import Sequential\n",
    "from tensorflow.keras.layers import LSTM, Dense, Dropout, Bidirectional, Embedding\n",
    "from tensorflow.keras.utils import to_categorical\n",
    "from tensorflow.keras.preprocessing.text import Tokenizer\n",
    "from tensorflow.keras.preprocessing.sequence import pad_sequences\n",
    "\n",
    "\n",
    "# Load GloVe embeddings\n",
    "def load_glove_embeddings(file_path):\n",
    "    embeddings_index = {}\n",
    "    with open(file_path, encoding='utf-8') as f:\n",
    "        for line in f:\n",
    "            values = line.split()\n",
    "            word = values[0]\n",
    "            coefs = np.asarray(values[1:], dtype='float32')\n",
    "            embeddings_index[word] = coefs\n",
    "    return embeddings_index\n",
    "\n",
    "glove_embeddings = load_glove_embeddings('glove.6B.100d.txt')\n",
    "\n",
    "# Tokenize and pad sequences\n",
    "tokenizer = Tokenizer()\n",
    "tokenizer.fit_on_texts(df['Summary'])\n",
    "sequences = tokenizer.texts_to_sequences(df['Summary'])\n",
    "word_index = tokenizer.word_index\n",
    "\n",
    "X = pad_sequences(sequences, maxlen=100)\n",
    "y = df['Priority_encoded']\n",
    "\n",
    "# Prepare embedding matrix\n",
    "embedding_dim = 100\n",
    "embedding_matrix = np.zeros((len(word_index) + 1, embedding_dim))\n",
    "for word, i in word_index.items():\n",
    "    embedding_vector = glove_embeddings.get(word)\n",
    "    if embedding_vector is not None:\n",
    "        embedding_matrix[i] = embedding_vector\n",
    "\n",
    "# Split the dataset into training and testing sets\n",
    "X_train, X_test, y_train, y_test = train_test_split(X, y, test_size=0.2, random_state=42)\n",
    "\n",
    "# Convert target to categorical for multi-class classification\n",
    "y_train_categorical = to_categorical(y_train, num_classes=4)\n",
    "y_test_categorical = to_categorical(y_test, num_classes=4)\n",
    "\n",
    "# Build the improved RNN-LSTM model\n",
    "model = Sequential()\n",
    "model.add(Embedding(len(word_index) + 1, embedding_dim, weights=[embedding_matrix], input_length=100, trainable=False))\n",
    "model.add(Bidirectional(LSTM(64, activation='relu', return_sequences=True)))\n",
    "model.add(Dropout(0.3))\n",
    "model.add(Bidirectional(LSTM(32, activation='relu')))\n",
    "model.add(Dropout(0.3))\n",
    "model.add(Dense(4, activation='softmax'))  # 4 classes\n",
    "\n",
    "# Compile the model\n",
    "model.compile(optimizer='adam', loss='categorical_crossentropy', metrics=['accuracy'])\n",
    "\n",
    "# Train the model\n",
    "history = model.fit(X_train, y_train_categorical, epochs=30, batch_size=32, validation_data=(X_test, y_test_categorical), verbose=1)\n",
    "\n",
    "# Evaluate the model on test data\n",
    "rnn_lstm_results = model.evaluate(X_test, y_test_categorical)\n",
    "print('Improved RNN-LSTM Results:', rnn_lstm_results)\n",
    "\n"
   ]
  },
  {
   "cell_type": "markdown",
   "metadata": {},
   "source": [
    "Prediction Function"
   ]
  },
  {
   "cell_type": "code",
   "execution_count": 3,
   "metadata": {},
   "outputs": [
    {
     "name": "stdout",
     "output_type": "stream",
     "text": [
      "\u001b[1m1/1\u001b[0m \u001b[32m━━━━━━━━━━━━━━━━━━━━\u001b[0m\u001b[37m\u001b[0m \u001b[1m1s\u001b[0m 581ms/step\n",
      "RNN-LSTM predicted priority: Major\n"
     ]
    }
   ],
   "source": [
    "import numpy as np\n",
    "from nltk.tokenize import word_tokenize\n",
    "from nltk.corpus import stopwords\n",
    "from nltk.stem import WordNetLemmatizer\n",
    "\n",
    "# Preprocess the description to obtain a vector\n",
    "def preprocess_description(description):\n",
    "    tokens = word_tokenize(description)\n",
    "    stop_words = set(stopwords.words('english'))\n",
    "    tokens = [word for word in tokens if word.lower() not in stop_words]\n",
    "    lemmatizer = WordNetLemmatizer()\n",
    "    tokens = [lemmatizer.lemmatize(word) for word in tokens]\n",
    "    vector = np.zeros(100)\n",
    "    for i, token in enumerate(tokens[:100]):\n",
    "        vector[i] = hash(token) % 100  # Simple hashing for demonstration\n",
    "    return vector\n",
    "\n",
    "# Define the mapping of numeric predictions to priority labels\n",
    "priority_mapping = {\n",
    "    0: 'Blocker',\n",
    "    1: 'Critical',\n",
    "    2: 'Major',\n",
    "    3: 'Minor'\n",
    "}\n",
    "# Example usage\n",
    "user_input_description = \"Application crashes when submitting the form with special characters.\"\n",
    "issue_data = preprocess_description(user_input_description)\n",
    "\n",
    "# Reshape the data to match model's expected input\n",
    "issue_data_rnn = np.expand_dims(issue_data, axis=0)  # Shape becomes (1, 100)\n",
    "\n",
    "# RNN-LSTM prediction\n",
    "rnn_lstm_pred = model.predict(issue_data_rnn)\n",
    "rnn_lstm_pred_label = label_encoder.inverse_transform([np.argmax(rnn_lstm_pred)])\n",
    "\n",
    "# Print predictions\n",
    "print(f\"RNN-LSTM predicted priority: {rnn_lstm_pred_label[0]}\")\n"
   ]
  },
  {
   "cell_type": "markdown",
   "metadata": {},
   "source": [
    "Pareto Chart : > Shows the frequency of each priority and the cumulative percentage. \n",
    "               > The horizontal line at 80% helps to identify the most significant priorities according to the Pareto Principle."
   ]
  },
  {
   "cell_type": "code",
   "execution_count": 4,
   "metadata": {},
   "outputs": [
    {
     "data": {
      "image/png": "[encoded data removed]",
      "text/plain": [
       "<Figure size 640x480 with 2 Axes>"
      ]
     },
     "metadata": {},
     "output_type": "display_data"
    }
   ],
   "source": [
    "import pandas as pd\n",
    "import matplotlib.pyplot as plt\n",
    "\n",
    "# Load the CSV file into a DataFrame\n",
    "df = pd.read_csv('jira_priority_cleaned.csv', encoding='ISO-8859-1')\n",
    "\n",
    "# Count the occurrences of each priority\n",
    "priority_counts = df['Priority'].value_counts()\n",
    "\n",
    "# Sort the priorities by count in descending order\n",
    "priority_counts = priority_counts.sort_values(ascending=False)\n",
    "\n",
    "# Calculate the cumulative percentage\n",
    "cumulative_percentage = priority_counts.cumsum() / priority_counts.sum() * 100\n",
    "\n",
    "# Create the Pareto chart\n",
    "fig, ax1 = plt.subplots()\n",
    "\n",
    "# Bar plot for the priority counts\n",
    "ax1.bar(priority_counts.index, priority_counts, color='C0')\n",
    "ax1.set_xlabel('Priority')\n",
    "ax1.set_ylabel('Frequency', color='C0')\n",
    "ax1.tick_params(axis='y', labelcolor='C0')\n",
    "\n",
    "# Line plot for the cumulative percentage\n",
    "ax2 = ax1.twinx()\n",
    "ax2.plot(priority_counts.index, cumulative_percentage, color='C1', marker='D', ms=7)\n",
    "ax2.set_ylabel('Cumulative Percentage', color='C1')\n",
    "ax2.tick_params(axis='y', labelcolor='C1')\n",
    "\n",
    "# Add a horizontal line at 80%\n",
    "ax2.axhline(80, color='C2', linestyle='--')\n",
    "\n",
    "plt.title('Pareto Chart of Priority Distribution')\n",
    "plt.show()\n"
   ]
  }
 ],
 "metadata": {
  "kernelspec": {
   "display_name": "Python 3",
   "language": "python",
   "name": "python3"
  },
  "language_info": {
   "codemirror_mode": {
    "name": "ipython",
    "version": 3
   },
   "file_extension": ".py",
   "mimetype": "text/x-python",
   "name": "python",
   "nbconvert_exporter": "python",
   "pygments_lexer": "ipython3",
   "version": "3.12.0"
  }
 },
 "nbformat": 4,
 "nbformat_minor": 2
}
